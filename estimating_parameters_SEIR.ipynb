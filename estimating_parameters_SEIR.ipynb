{
 "cells": [
  {
   "cell_type": "code",
   "execution_count": 3,
   "metadata": {},
   "outputs": [],
   "source": [
    "\n",
    "import os\n",
    "import sys\n",
    "import matplotlib.pyplot as plt\n",
    "import numpy as np\n",
    "import pandas as pd\n",
    "from scipy.integrate import odeint\n",
    "import plotly.graph_objects as go\n",
    "import plotly.io as pio\n",
    "import requests\n",
    "from lmfit import minimize, Parameters, Parameter, report_fit\n",
    "pio.renderers.default = \"notebook\"\n",
    "plt.style.use('ggplot')"
   ]
  },
  {
   "cell_type": "code",
   "execution_count": 4,
   "metadata": {},
   "outputs": [],
   "source": [
    "# Jupyter Specifics\n",
    "from IPython.display import HTML\n",
    "from ipywidgets.widgets import interact, IntSlider, FloatSlider, Layout, ToggleButton, ToggleButtons\n",
    "\n",
    "style = {'description_width': '100px'}\n",
    "slider_layout = Layout(width='99%')\n"
   ]
  },
  {
   "cell_type": "code",
   "execution_count": 5,
   "metadata": {},
   "outputs": [],
   "source": [
    "def ode_model(z, t, beta, sigma, gamma, mu):\n",
    "    \"\"\"\n",
    "    Reference https://www.idmod.org/docs/hiv/model-seir.html\n",
    "    \"\"\"\n",
    "    S, E, I, R, D = z\n",
    "    N = S + E + I + R + D\n",
    "    dSdt = -beta*S*I/N\n",
    "    dEdt = beta*S*I/N - sigma*E\n",
    "    dIdt = sigma*E - gamma*I - mu*I\n",
    "    dRdt = gamma*I\n",
    "    dDdt = mu*I\n",
    "    return [dSdt, dEdt, dIdt, dRdt, dDdt]"
   ]
  },
  {
   "cell_type": "code",
   "execution_count": 6,
   "metadata": {},
   "outputs": [],
   "source": [
    "def ode_solver(t, initial_conditions, params):\n",
    "    initE, initI, initR, initN, initD = initial_conditions\n",
    "    beta, sigma, gamma, mu = params['beta'].value, params['sigma'].value, params['gamma'].value, params['mu'].value\n",
    "    initS = initN - (initE + initI + initR + initD)\n",
    "    res = odeint(ode_model, [initS, initE, initI, initR, initD], t, args=(beta, sigma, gamma, mu))\n",
    "    return res"
   ]
  },
  {
   "cell_type": "code",
   "execution_count": 7,
   "metadata": {},
   "outputs": [
    {
     "name": "stdout",
     "output_type": "stream",
     "text": [
      "Request Success? True\n"
     ]
    }
   ],
   "source": [
    "response = requests.get('https://api.rootnet.in/covid19-in/stats/history')\n",
    "print('Request Success? {}'.format(response.status_code == 200))\n",
    "covid_history = response.json()['data']"
   ]
  },
  {
   "cell_type": "code",
   "execution_count": 8,
   "metadata": {},
   "outputs": [],
   "source": [
    "keys = ['day', 'total', 'confirmedCasesIndian', 'confirmedCasesForeign', 'confirmedButLocationUnidentified',\n",
    "        'discharged', 'deaths']\n",
    "df_covid_history = pd.DataFrame([[d.get('day'), \n",
    "                                  d['summary'].get('total'), \n",
    "                                  d['summary'].get('confirmedCasesIndian'), \n",
    "                                  d['summary'].get('confirmedCasesForeign'),\n",
    "                                  d['summary'].get('confirmedButLocationUnidentified'),\n",
    "                                  d['summary'].get('discharged'), \n",
    "                                  d['summary'].get('deaths')] \n",
    "                                 for d in covid_history],\n",
    "                    columns=keys)\n",
    "df_covid_history = df_covid_history.sort_values(by='day')\n",
    "df_covid_history['infected'] = df_covid_history['total'] - df_covid_history['discharged'] - df_covid_history['deaths']\n",
    "df_covid_history['total_recovered_or_dead'] = df_covid_history['discharged'] + df_covid_history['deaths']"
   ]
  },
  {
   "cell_type": "code",
   "execution_count": 9,
   "metadata": {},
   "outputs": [
    {
     "data": {
      "text/html": [
       "<div>\n",
       "<style scoped>\n",
       "    .dataframe tbody tr th:only-of-type {\n",
       "        vertical-align: middle;\n",
       "    }\n",
       "\n",
       "    .dataframe tbody tr th {\n",
       "        vertical-align: top;\n",
       "    }\n",
       "\n",
       "    .dataframe thead th {\n",
       "        text-align: right;\n",
       "    }\n",
       "</style>\n",
       "<table border=\"1\" class=\"dataframe\">\n",
       "  <thead>\n",
       "    <tr style=\"text-align: right;\">\n",
       "      <th></th>\n",
       "      <th>day</th>\n",
       "      <th>total</th>\n",
       "      <th>confirmedCasesIndian</th>\n",
       "      <th>confirmedCasesForeign</th>\n",
       "      <th>confirmedButLocationUnidentified</th>\n",
       "      <th>discharged</th>\n",
       "      <th>deaths</th>\n",
       "      <th>infected</th>\n",
       "      <th>total_recovered_or_dead</th>\n",
       "    </tr>\n",
       "  </thead>\n",
       "  <tbody>\n",
       "    <tr>\n",
       "      <th>0</th>\n",
       "      <td>2020-03-10</td>\n",
       "      <td>47</td>\n",
       "      <td>31</td>\n",
       "      <td>16</td>\n",
       "      <td>0</td>\n",
       "      <td>0</td>\n",
       "      <td>0</td>\n",
       "      <td>47</td>\n",
       "      <td>0</td>\n",
       "    </tr>\n",
       "    <tr>\n",
       "      <th>1</th>\n",
       "      <td>2020-03-11</td>\n",
       "      <td>60</td>\n",
       "      <td>44</td>\n",
       "      <td>16</td>\n",
       "      <td>0</td>\n",
       "      <td>0</td>\n",
       "      <td>0</td>\n",
       "      <td>60</td>\n",
       "      <td>0</td>\n",
       "    </tr>\n",
       "    <tr>\n",
       "      <th>2</th>\n",
       "      <td>2020-03-12</td>\n",
       "      <td>73</td>\n",
       "      <td>56</td>\n",
       "      <td>17</td>\n",
       "      <td>0</td>\n",
       "      <td>0</td>\n",
       "      <td>0</td>\n",
       "      <td>73</td>\n",
       "      <td>0</td>\n",
       "    </tr>\n",
       "    <tr>\n",
       "      <th>3</th>\n",
       "      <td>2020-03-13</td>\n",
       "      <td>82</td>\n",
       "      <td>65</td>\n",
       "      <td>17</td>\n",
       "      <td>0</td>\n",
       "      <td>10</td>\n",
       "      <td>2</td>\n",
       "      <td>70</td>\n",
       "      <td>12</td>\n",
       "    </tr>\n",
       "    <tr>\n",
       "      <th>4</th>\n",
       "      <td>2020-03-14</td>\n",
       "      <td>84</td>\n",
       "      <td>67</td>\n",
       "      <td>17</td>\n",
       "      <td>0</td>\n",
       "      <td>10</td>\n",
       "      <td>2</td>\n",
       "      <td>72</td>\n",
       "      <td>12</td>\n",
       "    </tr>\n",
       "  </tbody>\n",
       "</table>\n",
       "</div>"
      ],
      "text/plain": [
       "          day  total  confirmedCasesIndian  confirmedCasesForeign  \\\n",
       "0  2020-03-10     47                    31                     16   \n",
       "1  2020-03-11     60                    44                     16   \n",
       "2  2020-03-12     73                    56                     17   \n",
       "3  2020-03-13     82                    65                     17   \n",
       "4  2020-03-14     84                    67                     17   \n",
       "\n",
       "   confirmedButLocationUnidentified  discharged  deaths  infected  \\\n",
       "0                                 0           0       0        47   \n",
       "1                                 0           0       0        60   \n",
       "2                                 0           0       0        73   \n",
       "3                                 0          10       2        70   \n",
       "4                                 0          10       2        72   \n",
       "\n",
       "   total_recovered_or_dead  \n",
       "0                        0  \n",
       "1                        0  \n",
       "2                        0  \n",
       "3                       12  \n",
       "4                       12  "
      ]
     },
     "execution_count": 9,
     "metadata": {},
     "output_type": "execute_result"
    }
   ],
   "source": [
    "df_covid_history.head()\n"
   ]
  },
  {
   "cell_type": "code",
   "execution_count": 10,
   "metadata": {},
   "outputs": [],
   "source": [
    "\n",
    "# ref: https://www.medrxiv.org/content/10.1101/2020.04.01.20049825v1.full.pdf\n",
    "initN = 1380000000\n",
    "# S0 = 966000000\n",
    "initE = 1000\n",
    "initI = 47\n",
    "initR = 0\n",
    "initD = 0\n",
    "sigma = 1/5.2\n",
    "gamma = 1/2.9\n",
    "mu = 0.034\n",
    "R0 = 4\n",
    "beta = R0 * gamma\n",
    "days = 112\n",
    "\n",
    "params = Parameters()\n",
    "params.add('beta', value=beta, min=0, max=10)\n",
    "params.add('sigma', value=sigma, min=0, max=10)\n",
    "params.add('gamma', value=gamma, min=0, max=10)\n",
    "params.add('mu', value=mu, min=0, max=10)"
   ]
  },
  {
   "cell_type": "code",
   "execution_count": 11,
   "metadata": {},
   "outputs": [],
   "source": [
    "def main(initE, initI, initR, initD, initN, beta, sigma, gamma, mu, days, param_fitting):\n",
    "    initial_conditions = [initE, initI, initR, initN, initD]\n",
    "    params['beta'].value, params['sigma'].value,params['gamma'].value, params['mu'].value = [beta, sigma, gamma, mu]\n",
    "    tspan = np.arange(0, days, 1)\n",
    "    sol = ode_solver(tspan, initial_conditions, params)\n",
    "    S, E, I, R, D = sol[:, 0], sol[:, 1], sol[:, 2], sol[:, 3], sol[:, 4]\n",
    "    \n",
    "    # Create traces\n",
    "    fig = go.Figure()\n",
    "    if not param_fitting:\n",
    "        fig.add_trace(go.Scatter(x=tspan, y=S, mode='lines+markers', name='Susceptible'))\n",
    "        fig.add_trace(go.Scatter(x=tspan, y=E, mode='lines+markers', name='Exposed'))\n",
    "    fig.add_trace(go.Scatter(x=tspan, y=I, mode='lines+markers', name='Infected'))\n",
    "    fig.add_trace(go.Scatter(x=tspan, y=R, mode='lines+markers',name='Recovered'))\n",
    "    fig.add_trace(go.Scatter(x=tspan, y=D, mode='lines+markers',name='Death'))\n",
    "    if param_fitting:\n",
    "        fig.add_trace(go.Scatter(x=tspan, y=df_covid_history.infected, mode='lines+markers',\\\n",
    "                             name='Infections Observed', line = dict(dash='dash')))\n",
    "        fig.add_trace(go.Scatter(x=tspan, y=df_covid_history.discharged, mode='lines+markers',\\\n",
    "                             name='Recovered Observed', line = dict(dash='dash')))\n",
    "        fig.add_trace(go.Scatter(x=tspan, y=df_covid_history.deaths, mode='lines+markers',\\\n",
    "                             name='Deaths Observed', line = dict(dash='dash')))\n",
    "    \n",
    "    if days <= 30:\n",
    "        step = 1\n",
    "    elif days <= 90:\n",
    "        step = 7\n",
    "    else:\n",
    "        step = 30\n",
    "    \n",
    "    # Edit the layout\n",
    "    fig.update_layout(title='Simulation of SEIRD Model',\n",
    "                       xaxis_title='Day',\n",
    "                       yaxis_title='Counts',\n",
    "                       title_x=0.5,\n",
    "                      width=900, height=600\n",
    "                     )\n",
    "    fig.update_xaxes(tickangle=-90, tickformat = None, tickmode='array', tickvals=np.arange(0, days + 1, step))\n",
    "    if not os.path.exists(\"images\"):\n",
    "        os.mkdir(\"images\")\n",
    "    fig.write_image(\"images/seird_simulation.png\")\n",
    "    fig.show()\n"
   ]
  },
  {
   "cell_type": "code",
   "execution_count": 26,
   "metadata": {
    "scrolled": true
   },
   "outputs": [
    {
     "data": {
      "application/vnd.jupyter.widget-view+json": {
       "model_id": "259edf3212f94bc4a715a6d435438443",
       "version_major": 2,
       "version_minor": 0
      },
      "text/plain": [
       "interactive(children=(IntSlider(value=1000, description='initE', layout=Layout(width='99%'), max=100000, style…"
      ]
     },
     "metadata": {},
     "output_type": "display_data"
    }
   ],
   "source": [
    "interact(main, \n",
    "         initE=IntSlider(min=0, max=100000, step=1, value=initE, description='initE', style=style, layout=slider_layout),\n",
    "         initI=IntSlider(min=0, max=100000, step=10, value=initI, description='initI', style=style, layout=slider_layout),\n",
    "         initR=IntSlider(min=0, max=100000, step=10, value=initR, description='initR', style=style, layout=slider_layout),\n",
    "         initD=IntSlider(min=0, max=100000, step=10, value=initD, description='initD', style=style, layout=slider_layout),\n",
    "         initN=IntSlider(min=0, max=1380000000, step=1000, value=initN, description='initN', style=style, layout=slider_layout),\n",
    "         beta=FloatSlider(min=0, max=4, step=0.01, value=beta, description='Infection rate', style=style, layout=slider_layout),\n",
    "         sigma=FloatSlider(min=0, max=4, step=0.01, value=sigma, description='Incubation rate', style=style, layout=slider_layout),\n",
    "         gamma=FloatSlider(min=0, max=4, step=0.01, value=gamma, description='Recovery rate', style=style, layout=slider_layout),\n",
    "         mu=FloatSlider(min=0, max=1, step=0.001, value=mu, description='Mortality rate', style=style, layout=slider_layout),\n",
    "         days=IntSlider(min=0, max=600, step=7, value=days, description='Days', style=style, layout=slider_layout),\n",
    "         param_fitting=ToggleButton(value=False, description='Fitting Mode', disabled=False, button_style='', \\\n",
    "             tooltip='Click to show fewer plots', icon='check-circle')\n",
    "        );"
   ]
  },
  {
   "cell_type": "code",
   "execution_count": 27,
   "metadata": {},
   "outputs": [],
   "source": [
    "def error(params, initial_conditions, tspan, data):\n",
    "    sol = ode_solver(tspan, initial_conditions, params)\n",
    "    return (sol[:, 2:5] - data).ravel()"
   ]
  },
  {
   "cell_type": "code",
   "execution_count": 28,
   "metadata": {},
   "outputs": [],
   "source": [
    "initial_conditions = [initE, initI, initR, initN, initD]\n",
    "beta = 1.14\n",
    "sigma = 0.02\n",
    "gamma = 0.02\n",
    "mu = 0.01\n",
    "params['beta'].value = beta\n",
    "params['sigma'].value = sigma\n",
    "params['gamma'].value = gamma\n",
    "params['mu'].value = mu\n",
    "days = 45\n",
    "tspan = np.arange(0, days, 1)\n",
    "data = df_covid_history.loc[0:(days-1), ['infected', 'discharged', 'deaths']].values"
   ]
  },
  {
   "cell_type": "code",
   "execution_count": 16,
   "metadata": {},
   "outputs": [
    {
     "data": {
      "text/html": [
       "<table><tr><th> name </th><th> value </th><th> initial value </th><th> min </th><th> max </th><th> vary </th></tr><tr><td> beta </td><td>  1.14000000 </td><td> 1.3793103448275863 </td><td>  0.00000000 </td><td>  10.0000000 </td><td> True </td></tr><tr><td> sigma </td><td>  0.02000000 </td><td> 0.1923076923076923 </td><td>  0.00000000 </td><td>  10.0000000 </td><td> True </td></tr><tr><td> gamma </td><td>  0.02000000 </td><td> 0.3448275862068966 </td><td>  0.00000000 </td><td>  10.0000000 </td><td> True </td></tr><tr><td> mu </td><td>  0.01000000 </td><td> 0.034 </td><td>  0.00000000 </td><td>  10.0000000 </td><td> True </td></tr></table>"
      ],
      "text/plain": [
       "Parameters([('beta', <Parameter 'beta', value=1.14, bounds=[0:10]>),\n",
       "            ('sigma', <Parameter 'sigma', value=0.02, bounds=[0:10]>),\n",
       "            ('gamma', <Parameter 'gamma', value=0.02, bounds=[0:10]>),\n",
       "            ('mu', <Parameter 'mu', value=0.01, bounds=[0:10]>)])"
      ]
     },
     "execution_count": 16,
     "metadata": {},
     "output_type": "execute_result"
    }
   ],
   "source": [
    "params"
   ]
  },
  {
   "cell_type": "code",
   "execution_count": 18,
   "metadata": {},
   "outputs": [
    {
     "data": {
      "text/html": [
       "<div>                            <div id=\"63f60104-250d-4bf7-80c1-ab63b7173e56\" class=\"plotly-graph-div\" style=\"height:600px; width:1000px;\"></div>            <script type=\"text/javascript\">                require([\"plotly\"], function(Plotly) {                    window.PLOTLYENV=window.PLOTLYENV || {};                                    if (document.getElementById(\"63f60104-250d-4bf7-80c1-ab63b7173e56\")) {                    Plotly.newPlot(                        \"63f60104-250d-4bf7-80c1-ab63b7173e56\",                        [{\"line\": {\"dash\": \"dot\"}, \"mode\": \"markers\", \"name\": \"Observed Infections\", \"type\": \"scatter\", \"x\": [0, 1, 2, 3, 4, 5, 6, 7, 8, 9, 10, 11, 12, 13, 14, 15, 16, 17, 18, 19, 20, 21, 22, 23, 24, 25, 26, 27, 28, 29, 30, 31, 32, 33, 34, 35, 36, 37, 38, 39, 40, 41, 42, 43, 44], \"y\": [47, 60, 73, 70, 72, 95, 99, 120, 134, 149, 196, 256, 329, 424, 469, 553, 634, 640, 810, 901, 1118, 1238, 1649, 1860, 2322, 2784, 3219, 3851, 4312, 4714, 5218, 6039, 6634, 7409, 8048, 9272, 10197, 10824, 11616, 12289, 13295, 14255, 15122, 15859, 16689]}, {\"line\": {\"dash\": \"dot\"}, \"mode\": \"markers\", \"name\": \"Observed Recovered\", \"type\": \"scatter\", \"x\": [0, 1, 2, 3, 4, 5, 6, 7, 8, 9, 10, 11, 12, 13, 14, 15, 16, 17, 18, 19, 20, 21, 22, 23, 24, 25, 26, 27, 28, 29, 30, 31, 32, 33, 34, 35, 36, 37, 38, 39, 40, 41, 42, 43, 44], \"y\": [0, 0, 0, 10, 10, 13, 13, 14, 14, 20, 23, 23, 24, 35, 40, 43, 45, 67, 80, 96, 102, 124, 144, 156, 163, 213, 275, 319, 353, 411, 478, 516, 653, 765, 980, 1190, 1344, 1515, 1767, 2015, 2302, 2842, 3260, 3960, 4325]}, {\"line\": {\"dash\": \"dot\"}, \"mode\": \"markers\", \"name\": \"Observed Deaths\", \"type\": \"scatter\", \"x\": [0, 1, 2, 3, 4, 5, 6, 7, 8, 9, 10, 11, 12, 13, 14, 15, 16, 17, 18, 19, 20, 21, 22, 23, 24, 25, 26, 27, 28, 29, 30, 31, 32, 33, 34, 35, 36, 37, 38, 39, 40, 41, 42, 43, 44], \"y\": [0, 0, 0, 2, 2, 2, 2, 3, 3, 4, 4, 4, 7, 8, 10, 10, 15, 17, 19, 27, 31, 35, 41, 53, 62, 75, 83, 111, 124, 149, 169, 206, 242, 273, 324, 353, 392, 420, 452, 488, 519, 559, 603, 652, 686]}, {\"mode\": \"lines+markers\", \"name\": \"Fitted Infections\", \"type\": \"scatter\", \"x\": [0, 1, 2, 3, 4, 5, 6, 7, 8, 9, 10, 11, 12, 13, 14, 15, 16, 17, 18, 19, 20, 21, 22, 23, 24, 25, 26, 27, 28, 29, 30, 31, 32, 33, 34, 35, 36, 37, 38, 39, 40, 41, 42, 43, 44], \"y\": [47.0, 122.67622516105642, 193.1523008222386, 260.15623254091577, 325.1883104563173, 389.56922944482886, 454.4804316264356, 520.9981168292787, 590.1221336944648, 662.8007440069771, 739.9520939130374, 822.4830788500085, 911.306186977764, 1007.3548087224516, 1111.5974252580681, 1225.051032586059, 1348.7941072811811, 1483.9793850794417, 1631.8466901761728, 1793.7360348727107, 1971.1011912724985, 2165.523923008578, 2378.7290621201387, 2612.6006105301103, 2869.199045803539, 3150.780016482597, 3459.814615629838, 3799.0114325458335, 4171.340594031537, 4580.060018622912, 5028.744126014324, 5521.31526270224, 6062.078126031558, 6655.757493834149, 7307.539603150957, 8023.117504751698, 8808.740875931298, 9671.270605655316, 10618.238809803324, 11657.914554021288, 12799.376134559985, 14052.590334485276, 15428.499411879206, 16939.116723347663, 18597.631477123843]}, {\"mode\": \"lines+markers\", \"name\": \"Fitted Recovered\", \"type\": \"scatter\", \"x\": [0, 1, 2, 3, 4, 5, 6, 7, 8, 9, 10, 11, 12, 13, 14, 15, 16, 17, 18, 19, 20, 21, 22, 23, 24, 25, 26, 27, 28, 29, 30, 31, 32, 33, 34, 35, 36, 37, 38, 39, 40, 41, 42, 43, 44], \"y\": [0.0, 1.549979178639991, 4.424219768139448, 8.54436197950268, 13.86127965541612, 20.351395012245803, 28.013793843977712, 36.868014317655415, 46.952404935682516, 58.322968474967396, 71.05262438693187, 85.23083681073105, 100.96356587894087, 118.37351021876356, 137.60061681829032, 158.80284106199792, 182.15714601929434, 207.8607349832322, 236.1325163392426, 267.2148035144896, 301.37525670176177, 338.9090768993369, 380.14146573103574, 425.430368082551, 475.1695178755041, 529.7918104306473, 589.7730281313374, 655.6359506316526, 727.9548827545208, 807.36063898083, 894.5460265740247, 990.2718743020748, 1095.3736586463253, 1210.7687847285915, 1337.4645865474206, 1476.5671079192973, 1629.2907578360926, 1796.9688985462083, 1981.0654948079832, 2183.187875767849, 2405.100776163601, 2648.741736259596, 2916.2380079174413, 3209.9251415675167, 3532.367350391534]}, {\"mode\": \"lines+markers\", \"name\": \"Fitted Deaths\", \"type\": \"scatter\", \"x\": [0, 1, 2, 3, 4, 5, 6, 7, 8, 9, 10, 11, 12, 13, 14, 15, 16, 17, 18, 19, 20, 21, 22, 23, 24, 25, 26, 27, 28, 29, 30, 31, 32, 33, 34, 35, 36, 37, 38, 39, 40, 41, 42, 43, 44], \"y\": [0.0, 0.3228614959067732, 0.9215673553854833, 1.779795192275893, 2.8873120016080085, 4.239206518379608, 5.835288312986656, 7.679627196124609, 9.78021118145354, 12.148705677500711, 14.800299845185947, 17.75362911277543, 21.030765032830264, 24.657265795337846, 28.662282433128464, 33.07871713767765, 37.94343141144727, 43.297502806362004, 49.18653005675376, 55.660987179725865, 62.77662793728322, 70.59494285601518, 79.18367160893477, 88.6173743081, 98.97806594098664, 110.3559188355558, 122.85003871795755, 136.56932087109072, 151.6333932982164, 168.17365499471845, 186.33441808590365, 206.27416361302775, 228.16692177616005, 252.20378855521022, 278.59459216344123, 307.56972212224133, 339.3821404772698, 374.3095873014497, 412.6570072407129, 454.7592078200783, 500.9837842338396, 551.734327160343, 607.4539443055976, 668.6291320794325, 735.7940174656678]}],                        {\"height\": 600, \"template\": {\"data\": {\"bar\": [{\"error_x\": {\"color\": \"#2a3f5f\"}, \"error_y\": {\"color\": \"#2a3f5f\"}, \"marker\": {\"line\": {\"color\": \"#E5ECF6\", \"width\": 0.5}}, \"type\": \"bar\"}], \"barpolar\": [{\"marker\": {\"line\": {\"color\": \"#E5ECF6\", \"width\": 0.5}}, \"type\": \"barpolar\"}], \"carpet\": [{\"aaxis\": {\"endlinecolor\": \"#2a3f5f\", \"gridcolor\": \"white\", \"linecolor\": \"white\", \"minorgridcolor\": \"white\", \"startlinecolor\": \"#2a3f5f\"}, \"baxis\": {\"endlinecolor\": \"#2a3f5f\", \"gridcolor\": \"white\", \"linecolor\": \"white\", \"minorgridcolor\": \"white\", \"startlinecolor\": \"#2a3f5f\"}, \"type\": \"carpet\"}], \"choropleth\": [{\"colorbar\": {\"outlinewidth\": 0, \"ticks\": \"\"}, \"type\": \"choropleth\"}], \"contour\": [{\"colorbar\": {\"outlinewidth\": 0, \"ticks\": \"\"}, \"colorscale\": [[0.0, \"#0d0887\"], [0.1111111111111111, \"#46039f\"], [0.2222222222222222, \"#7201a8\"], [0.3333333333333333, \"#9c179e\"], [0.4444444444444444, \"#bd3786\"], [0.5555555555555556, \"#d8576b\"], [0.6666666666666666, \"#ed7953\"], [0.7777777777777778, \"#fb9f3a\"], [0.8888888888888888, \"#fdca26\"], [1.0, \"#f0f921\"]], \"type\": \"contour\"}], \"contourcarpet\": [{\"colorbar\": {\"outlinewidth\": 0, \"ticks\": \"\"}, \"type\": \"contourcarpet\"}], \"heatmap\": [{\"colorbar\": {\"outlinewidth\": 0, \"ticks\": \"\"}, \"colorscale\": [[0.0, \"#0d0887\"], [0.1111111111111111, \"#46039f\"], [0.2222222222222222, \"#7201a8\"], [0.3333333333333333, \"#9c179e\"], [0.4444444444444444, \"#bd3786\"], [0.5555555555555556, \"#d8576b\"], [0.6666666666666666, \"#ed7953\"], [0.7777777777777778, \"#fb9f3a\"], [0.8888888888888888, \"#fdca26\"], [1.0, \"#f0f921\"]], \"type\": \"heatmap\"}], \"heatmapgl\": [{\"colorbar\": {\"outlinewidth\": 0, \"ticks\": \"\"}, \"colorscale\": [[0.0, \"#0d0887\"], [0.1111111111111111, \"#46039f\"], [0.2222222222222222, \"#7201a8\"], [0.3333333333333333, \"#9c179e\"], [0.4444444444444444, \"#bd3786\"], [0.5555555555555556, \"#d8576b\"], [0.6666666666666666, \"#ed7953\"], [0.7777777777777778, \"#fb9f3a\"], [0.8888888888888888, \"#fdca26\"], [1.0, \"#f0f921\"]], \"type\": \"heatmapgl\"}], \"histogram\": [{\"marker\": {\"colorbar\": {\"outlinewidth\": 0, \"ticks\": \"\"}}, \"type\": \"histogram\"}], \"histogram2d\": [{\"colorbar\": {\"outlinewidth\": 0, \"ticks\": \"\"}, \"colorscale\": [[0.0, \"#0d0887\"], [0.1111111111111111, \"#46039f\"], [0.2222222222222222, \"#7201a8\"], [0.3333333333333333, \"#9c179e\"], [0.4444444444444444, \"#bd3786\"], [0.5555555555555556, \"#d8576b\"], [0.6666666666666666, \"#ed7953\"], [0.7777777777777778, \"#fb9f3a\"], [0.8888888888888888, \"#fdca26\"], [1.0, \"#f0f921\"]], \"type\": \"histogram2d\"}], \"histogram2dcontour\": [{\"colorbar\": {\"outlinewidth\": 0, \"ticks\": \"\"}, \"colorscale\": [[0.0, \"#0d0887\"], [0.1111111111111111, \"#46039f\"], [0.2222222222222222, \"#7201a8\"], [0.3333333333333333, \"#9c179e\"], [0.4444444444444444, \"#bd3786\"], [0.5555555555555556, \"#d8576b\"], [0.6666666666666666, \"#ed7953\"], [0.7777777777777778, \"#fb9f3a\"], [0.8888888888888888, \"#fdca26\"], [1.0, \"#f0f921\"]], \"type\": \"histogram2dcontour\"}], \"mesh3d\": [{\"colorbar\": {\"outlinewidth\": 0, \"ticks\": \"\"}, \"type\": \"mesh3d\"}], \"parcoords\": [{\"line\": {\"colorbar\": {\"outlinewidth\": 0, \"ticks\": \"\"}}, \"type\": \"parcoords\"}], \"pie\": [{\"automargin\": true, \"type\": \"pie\"}], \"scatter\": [{\"marker\": {\"colorbar\": {\"outlinewidth\": 0, \"ticks\": \"\"}}, \"type\": \"scatter\"}], \"scatter3d\": [{\"line\": {\"colorbar\": {\"outlinewidth\": 0, \"ticks\": \"\"}}, \"marker\": {\"colorbar\": {\"outlinewidth\": 0, \"ticks\": \"\"}}, \"type\": \"scatter3d\"}], \"scattercarpet\": [{\"marker\": {\"colorbar\": {\"outlinewidth\": 0, \"ticks\": \"\"}}, \"type\": \"scattercarpet\"}], \"scattergeo\": [{\"marker\": {\"colorbar\": {\"outlinewidth\": 0, \"ticks\": \"\"}}, \"type\": \"scattergeo\"}], \"scattergl\": [{\"marker\": {\"colorbar\": {\"outlinewidth\": 0, \"ticks\": \"\"}}, \"type\": \"scattergl\"}], \"scattermapbox\": [{\"marker\": {\"colorbar\": {\"outlinewidth\": 0, \"ticks\": \"\"}}, \"type\": \"scattermapbox\"}], \"scatterpolar\": [{\"marker\": {\"colorbar\": {\"outlinewidth\": 0, \"ticks\": \"\"}}, \"type\": \"scatterpolar\"}], \"scatterpolargl\": [{\"marker\": {\"colorbar\": {\"outlinewidth\": 0, \"ticks\": \"\"}}, \"type\": \"scatterpolargl\"}], \"scatterternary\": [{\"marker\": {\"colorbar\": {\"outlinewidth\": 0, \"ticks\": \"\"}}, \"type\": \"scatterternary\"}], \"surface\": [{\"colorbar\": {\"outlinewidth\": 0, \"ticks\": \"\"}, \"colorscale\": [[0.0, \"#0d0887\"], [0.1111111111111111, \"#46039f\"], [0.2222222222222222, \"#7201a8\"], [0.3333333333333333, \"#9c179e\"], [0.4444444444444444, \"#bd3786\"], [0.5555555555555556, \"#d8576b\"], [0.6666666666666666, \"#ed7953\"], [0.7777777777777778, \"#fb9f3a\"], [0.8888888888888888, \"#fdca26\"], [1.0, \"#f0f921\"]], \"type\": \"surface\"}], \"table\": [{\"cells\": {\"fill\": {\"color\": \"#EBF0F8\"}, \"line\": {\"color\": \"white\"}}, \"header\": {\"fill\": {\"color\": \"#C8D4E3\"}, \"line\": {\"color\": \"white\"}}, \"type\": \"table\"}]}, \"layout\": {\"annotationdefaults\": {\"arrowcolor\": \"#2a3f5f\", \"arrowhead\": 0, \"arrowwidth\": 1}, \"coloraxis\": {\"colorbar\": {\"outlinewidth\": 0, \"ticks\": \"\"}}, \"colorscale\": {\"diverging\": [[0, \"#8e0152\"], [0.1, \"#c51b7d\"], [0.2, \"#de77ae\"], [0.3, \"#f1b6da\"], [0.4, \"#fde0ef\"], [0.5, \"#f7f7f7\"], [0.6, \"#e6f5d0\"], [0.7, \"#b8e186\"], [0.8, \"#7fbc41\"], [0.9, \"#4d9221\"], [1, \"#276419\"]], \"sequential\": [[0.0, \"#0d0887\"], [0.1111111111111111, \"#46039f\"], [0.2222222222222222, \"#7201a8\"], [0.3333333333333333, \"#9c179e\"], [0.4444444444444444, \"#bd3786\"], [0.5555555555555556, \"#d8576b\"], [0.6666666666666666, \"#ed7953\"], [0.7777777777777778, \"#fb9f3a\"], [0.8888888888888888, \"#fdca26\"], [1.0, \"#f0f921\"]], \"sequentialminus\": [[0.0, \"#0d0887\"], [0.1111111111111111, \"#46039f\"], [0.2222222222222222, \"#7201a8\"], [0.3333333333333333, \"#9c179e\"], [0.4444444444444444, \"#bd3786\"], [0.5555555555555556, \"#d8576b\"], [0.6666666666666666, \"#ed7953\"], [0.7777777777777778, \"#fb9f3a\"], [0.8888888888888888, \"#fdca26\"], [1.0, \"#f0f921\"]]}, \"colorway\": [\"#636efa\", \"#EF553B\", \"#00cc96\", \"#ab63fa\", \"#FFA15A\", \"#19d3f3\", \"#FF6692\", \"#B6E880\", \"#FF97FF\", \"#FECB52\"], \"font\": {\"color\": \"#2a3f5f\"}, \"geo\": {\"bgcolor\": \"white\", \"lakecolor\": \"white\", \"landcolor\": \"#E5ECF6\", \"showlakes\": true, \"showland\": true, \"subunitcolor\": \"white\"}, \"hoverlabel\": {\"align\": \"left\"}, \"hovermode\": \"closest\", \"mapbox\": {\"style\": \"light\"}, \"paper_bgcolor\": \"white\", \"plot_bgcolor\": \"#E5ECF6\", \"polar\": {\"angularaxis\": {\"gridcolor\": \"white\", \"linecolor\": \"white\", \"ticks\": \"\"}, \"bgcolor\": \"#E5ECF6\", \"radialaxis\": {\"gridcolor\": \"white\", \"linecolor\": \"white\", \"ticks\": \"\"}}, \"scene\": {\"xaxis\": {\"backgroundcolor\": \"#E5ECF6\", \"gridcolor\": \"white\", \"gridwidth\": 2, \"linecolor\": \"white\", \"showbackground\": true, \"ticks\": \"\", \"zerolinecolor\": \"white\"}, \"yaxis\": {\"backgroundcolor\": \"#E5ECF6\", \"gridcolor\": \"white\", \"gridwidth\": 2, \"linecolor\": \"white\", \"showbackground\": true, \"ticks\": \"\", \"zerolinecolor\": \"white\"}, \"zaxis\": {\"backgroundcolor\": \"#E5ECF6\", \"gridcolor\": \"white\", \"gridwidth\": 2, \"linecolor\": \"white\", \"showbackground\": true, \"ticks\": \"\", \"zerolinecolor\": \"white\"}}, \"shapedefaults\": {\"line\": {\"color\": \"#2a3f5f\"}}, \"ternary\": {\"aaxis\": {\"gridcolor\": \"white\", \"linecolor\": \"white\", \"ticks\": \"\"}, \"baxis\": {\"gridcolor\": \"white\", \"linecolor\": \"white\", \"ticks\": \"\"}, \"bgcolor\": \"#E5ECF6\", \"caxis\": {\"gridcolor\": \"white\", \"linecolor\": \"white\", \"ticks\": \"\"}}, \"title\": {\"x\": 0.05}, \"xaxis\": {\"automargin\": true, \"gridcolor\": \"white\", \"linecolor\": \"white\", \"ticks\": \"\", \"title\": {\"standoff\": 15}, \"zerolinecolor\": \"white\", \"zerolinewidth\": 2}, \"yaxis\": {\"automargin\": true, \"gridcolor\": \"white\", \"linecolor\": \"white\", \"ticks\": \"\", \"title\": {\"standoff\": 15}, \"zerolinecolor\": \"white\", \"zerolinewidth\": 2}}}, \"title\": {\"text\": \"SEIRD: Observed vs Fitted\", \"x\": 0.5}, \"width\": 1000, \"xaxis\": {\"title\": {\"text\": \"Day\"}}, \"yaxis\": {\"title\": {\"text\": \"Counts\"}}},                        {\"responsive\": true}                    ).then(function(){\n",
       "                            \n",
       "var gd = document.getElementById('63f60104-250d-4bf7-80c1-ab63b7173e56');\n",
       "var x = new MutationObserver(function (mutations, observer) {{\n",
       "        var display = window.getComputedStyle(gd).display;\n",
       "        if (!display || display === 'none') {{\n",
       "            console.log([gd, 'removed!']);\n",
       "            Plotly.purge(gd);\n",
       "            observer.disconnect();\n",
       "        }}\n",
       "}});\n",
       "\n",
       "// Listen for the removal of the full notebook cells\n",
       "var notebookContainer = gd.closest('#notebook-container');\n",
       "if (notebookContainer) {{\n",
       "    x.observe(notebookContainer, {childList: true});\n",
       "}}\n",
       "\n",
       "// Listen for the clearing of the current output cell\n",
       "var outputEl = gd.closest('.output');\n",
       "if (outputEl) {{\n",
       "    x.observe(outputEl, {childList: true});\n",
       "}}\n",
       "\n",
       "                        })                };                });            </script>        </div>"
      ]
     },
     "metadata": {},
     "output_type": "display_data"
    }
   ],
   "source": [
    "# fit model and find predicted values\n",
    "result = minimize(error, params, args=(initial_conditions, tspan, data), method='leastsq')\n",
    "# result = minimize(error, params, args=(initial_conditions, tspan, data), method='leastsq', \\\n",
    "# **{'xtol':1.e-15, 'ftol':1.e-15})\n",
    "final = data + result.residual.reshape(data.shape)\n",
    "\n",
    "fig = go.Figure()\n",
    "fig.add_trace(go.Scatter(x=tspan, y=data[:, 0], mode='markers', name='Observed Infections', line = dict(dash='dot')))\n",
    "fig.add_trace(go.Scatter(x=tspan, y=data[:, 1], mode='markers', name='Observed Recovered', line = dict(dash='dot')))\n",
    "fig.add_trace(go.Scatter(x=tspan, y=data[:, 2], mode='markers', name='Observed Deaths', line = dict(dash='dot')))\n",
    "fig.add_trace(go.Scatter(x=tspan, y=final[:, 0], mode='lines+markers', name='Fitted Infections'))\n",
    "fig.add_trace(go.Scatter(x=tspan, y=final[:, 1], mode='lines+markers', name='Fitted Recovered'))\n",
    "fig.add_trace(go.Scatter(x=tspan, y=final[:, 2], mode='lines+markers', name='Fitted Deaths'))\n",
    "fig.update_layout(title='SEIRD: Observed vs Fitted',\n",
    "                       xaxis_title='Day',\n",
    "                       yaxis_title='Counts',\n",
    "                       title_x=0.5,\n",
    "                      width=1000, height=600\n",
    "                     )\n"
   ]
  },
  {
   "cell_type": "code",
   "execution_count": 19,
   "metadata": {},
   "outputs": [
    {
     "name": "stdout",
     "output_type": "stream",
     "text": [
      "[[Fit Statistics]]\n",
      "    # fitting method   = leastsq\n",
      "    # function evals   = 67\n",
      "    # data points      = 135\n",
      "    # variables        = 4\n",
      "    chi-square         = 25872760.4\n",
      "    reduced chi-square = 197501.988\n",
      "    Akaike info crit   = 1650.06257\n",
      "    Bayesian info crit = 1661.68367\n",
      "[[Variables]]\n",
      "    beta:   0.25012189 +/- 0.01967141 (7.86%) (init = 1.14)\n",
      "    sigma:  0.07995172 +/- 0.00717542 (8.97%) (init = 0.02)\n",
      "    gamma:  0.01816017 +/- 0.00102423 (5.64%) (init = 0.02)\n",
      "    mu:     0.00378277 +/- 9.6475e-04 (25.50%) (init = 0.01)\n",
      "[[Correlations]] (unreported correlations are < 0.100)\n",
      "    C(beta, sigma)  = -0.983\n",
      "    C(beta, gamma)  =  0.383\n",
      "    C(sigma, gamma) = -0.270\n",
      "    C(beta, mu)     =  0.143\n"
     ]
    }
   ],
   "source": [
    "report_fit(result)\n"
   ]
  },
  {
   "cell_type": "code",
   "execution_count": 20,
   "metadata": {},
   "outputs": [
    {
     "data": {
      "text/html": [
       "<div>                            <div id=\"e41789f6-8eed-4c30-a531-15f9de748189\" class=\"plotly-graph-div\" style=\"height:600px; width:1000px;\"></div>            <script type=\"text/javascript\">                require([\"plotly\"], function(Plotly) {                    window.PLOTLYENV=window.PLOTLYENV || {};                                    if (document.getElementById(\"e41789f6-8eed-4c30-a531-15f9de748189\")) {                    Plotly.newPlot(                        \"e41789f6-8eed-4c30-a531-15f9de748189\",                        [{\"line\": {\"dash\": \"dot\"}, \"mode\": \"markers\", \"name\": \"Observed Infections\", \"type\": \"scatter\", \"x\": [0, 1, 2, 3, 4, 5, 6, 7, 8, 9, 10, 11, 12, 13, 14, 15, 16, 17, 18, 19, 20, 21, 22, 23, 24, 25, 26, 27, 28, 29, 30, 31, 32, 33, 34, 35, 36, 37, 38, 39, 40, 41, 42, 43, 44], \"y\": [47, 60, 73, 70, 72, 95, 99, 120, 134, 149, 196, 256, 329, 424, 469, 553, 634, 640, 810, 901, 1118, 1238, 1649, 1860, 2322, 2784, 3219, 3851, 4312, 4714, 5218, 6039, 6634, 7409, 8048, 9272, 10197, 10824, 11616, 12289, 13295, 14255, 15122, 15859, 16689]}, {\"line\": {\"dash\": \"dot\"}, \"mode\": \"markers\", \"name\": \"Observed Recovered\", \"type\": \"scatter\", \"x\": [0, 1, 2, 3, 4, 5, 6, 7, 8, 9, 10, 11, 12, 13, 14, 15, 16, 17, 18, 19, 20, 21, 22, 23, 24, 25, 26, 27, 28, 29, 30, 31, 32, 33, 34, 35, 36, 37, 38, 39, 40, 41, 42, 43, 44], \"y\": [0, 0, 0, 10, 10, 13, 13, 14, 14, 20, 23, 23, 24, 35, 40, 43, 45, 67, 80, 96, 102, 124, 144, 156, 163, 213, 275, 319, 353, 411, 478, 516, 653, 765, 980, 1190, 1344, 1515, 1767, 2015, 2302, 2842, 3260, 3960, 4325]}, {\"line\": {\"dash\": \"dot\"}, \"mode\": \"markers\", \"name\": \"Observed Deaths\", \"type\": \"scatter\", \"x\": [0, 1, 2, 3, 4, 5, 6, 7, 8, 9, 10, 11, 12, 13, 14, 15, 16, 17, 18, 19, 20, 21, 22, 23, 24, 25, 26, 27, 28, 29, 30, 31, 32, 33, 34, 35, 36, 37, 38, 39, 40, 41, 42, 43, 44], \"y\": [0, 0, 0, 2, 2, 2, 2, 3, 3, 4, 4, 4, 7, 8, 10, 10, 15, 17, 19, 27, 31, 35, 41, 53, 62, 75, 83, 111, 124, 149, 169, 206, 242, 273, 324, 353, 392, 420, 452, 488, 519, 559, 603, 652, 686]}, {\"mode\": \"lines+markers\", \"name\": \"Fitted Infections\", \"type\": \"scatter\", \"x\": [0, 1, 2, 3, 4, 5, 6, 7, 8, 9, 10, 11, 12, 13, 14, 15, 16, 17, 18, 19, 20, 21, 22, 23, 24, 25, 26, 27, 28, 29, 30, 31, 32, 33, 34, 35, 36, 37, 38, 39, 40, 41, 42, 43, 44], \"y\": [47.0, 122.67622516105642, 193.1523008222386, 260.15623254091577, 325.1883104563173, 389.56922944482886, 454.4804316264356, 520.9981168292787, 590.1221336944648, 662.8007440069771, 739.9520939130374, 822.4830788500085, 911.306186977764, 1007.3548087224516, 1111.5974252580681, 1225.051032586059, 1348.7941072811811, 1483.9793850794417, 1631.8466901761728, 1793.7360348727107, 1971.1011912724985, 2165.523923008578, 2378.7290621201387, 2612.6006105301103, 2869.199045803539, 3150.780016482597, 3459.814615629838, 3799.0114325458335, 4171.340594031537, 4580.060018622912, 5028.744126014324, 5521.31526270224, 6062.078126031558, 6655.757493834149, 7307.539603150957, 8023.117504751698, 8808.740875931298, 9671.270605655316, 10618.238809803324, 11657.914554021288, 12799.376134559985, 14052.590334485276, 15428.499411879206, 16939.116723347663, 18597.631477123843]}, {\"mode\": \"lines+markers\", \"name\": \"Fitted Recovered\", \"type\": \"scatter\", \"x\": [0, 1, 2, 3, 4, 5, 6, 7, 8, 9, 10, 11, 12, 13, 14, 15, 16, 17, 18, 19, 20, 21, 22, 23, 24, 25, 26, 27, 28, 29, 30, 31, 32, 33, 34, 35, 36, 37, 38, 39, 40, 41, 42, 43, 44], \"y\": [0.0, 1.549979178639991, 4.424219768139448, 8.54436197950268, 13.86127965541612, 20.351395012245803, 28.013793843977712, 36.868014317655415, 46.952404935682516, 58.322968474967396, 71.05262438693187, 85.23083681073105, 100.96356587894087, 118.37351021876356, 137.60061681829032, 158.80284106199792, 182.15714601929434, 207.8607349832322, 236.1325163392426, 267.2148035144896, 301.37525670176177, 338.9090768993369, 380.14146573103574, 425.430368082551, 475.1695178755041, 529.7918104306473, 589.7730281313374, 655.6359506316526, 727.9548827545208, 807.36063898083, 894.5460265740247, 990.2718743020748, 1095.3736586463253, 1210.7687847285915, 1337.4645865474206, 1476.5671079192973, 1629.2907578360926, 1796.9688985462083, 1981.0654948079832, 2183.187875767849, 2405.100776163601, 2648.741736259596, 2916.2380079174413, 3209.9251415675167, 3532.367350391534]}, {\"mode\": \"lines+markers\", \"name\": \"Fitted Deaths\", \"type\": \"scatter\", \"x\": [0, 1, 2, 3, 4, 5, 6, 7, 8, 9, 10, 11, 12, 13, 14, 15, 16, 17, 18, 19, 20, 21, 22, 23, 24, 25, 26, 27, 28, 29, 30, 31, 32, 33, 34, 35, 36, 37, 38, 39, 40, 41, 42, 43, 44], \"y\": [0.0, 0.3228614959067732, 0.9215673553854833, 1.779795192275893, 2.8873120016080085, 4.239206518379608, 5.835288312986656, 7.679627196124609, 9.78021118145354, 12.148705677500711, 14.800299845185947, 17.75362911277543, 21.030765032830264, 24.657265795337846, 28.662282433128464, 33.07871713767765, 37.94343141144727, 43.297502806362004, 49.18653005675376, 55.660987179725865, 62.77662793728322, 70.59494285601518, 79.18367160893477, 88.6173743081, 98.97806594098664, 110.3559188355558, 122.85003871795755, 136.56932087109072, 151.6333932982164, 168.17365499471845, 186.33441808590365, 206.27416361302775, 228.16692177616005, 252.20378855521022, 278.59459216344123, 307.56972212224133, 339.3821404772698, 374.3095873014497, 412.6570072407129, 454.7592078200783, 500.9837842338396, 551.734327160343, 607.4539443055976, 668.6291320794325, 735.7940174656678]}],                        {\"height\": 600, \"template\": {\"data\": {\"bar\": [{\"error_x\": {\"color\": \"#2a3f5f\"}, \"error_y\": {\"color\": \"#2a3f5f\"}, \"marker\": {\"line\": {\"color\": \"#E5ECF6\", \"width\": 0.5}}, \"type\": \"bar\"}], \"barpolar\": [{\"marker\": {\"line\": {\"color\": \"#E5ECF6\", \"width\": 0.5}}, \"type\": \"barpolar\"}], \"carpet\": [{\"aaxis\": {\"endlinecolor\": \"#2a3f5f\", \"gridcolor\": \"white\", \"linecolor\": \"white\", \"minorgridcolor\": \"white\", \"startlinecolor\": \"#2a3f5f\"}, \"baxis\": {\"endlinecolor\": \"#2a3f5f\", \"gridcolor\": \"white\", \"linecolor\": \"white\", \"minorgridcolor\": \"white\", \"startlinecolor\": \"#2a3f5f\"}, \"type\": \"carpet\"}], \"choropleth\": [{\"colorbar\": {\"outlinewidth\": 0, \"ticks\": \"\"}, \"type\": \"choropleth\"}], \"contour\": [{\"colorbar\": {\"outlinewidth\": 0, \"ticks\": \"\"}, \"colorscale\": [[0.0, \"#0d0887\"], [0.1111111111111111, \"#46039f\"], [0.2222222222222222, \"#7201a8\"], [0.3333333333333333, \"#9c179e\"], [0.4444444444444444, \"#bd3786\"], [0.5555555555555556, \"#d8576b\"], [0.6666666666666666, \"#ed7953\"], [0.7777777777777778, \"#fb9f3a\"], [0.8888888888888888, \"#fdca26\"], [1.0, \"#f0f921\"]], \"type\": \"contour\"}], \"contourcarpet\": [{\"colorbar\": {\"outlinewidth\": 0, \"ticks\": \"\"}, \"type\": \"contourcarpet\"}], \"heatmap\": [{\"colorbar\": {\"outlinewidth\": 0, \"ticks\": \"\"}, \"colorscale\": [[0.0, \"#0d0887\"], [0.1111111111111111, \"#46039f\"], [0.2222222222222222, \"#7201a8\"], [0.3333333333333333, \"#9c179e\"], [0.4444444444444444, \"#bd3786\"], [0.5555555555555556, \"#d8576b\"], [0.6666666666666666, \"#ed7953\"], [0.7777777777777778, \"#fb9f3a\"], [0.8888888888888888, \"#fdca26\"], [1.0, \"#f0f921\"]], \"type\": \"heatmap\"}], \"heatmapgl\": [{\"colorbar\": {\"outlinewidth\": 0, \"ticks\": \"\"}, \"colorscale\": [[0.0, \"#0d0887\"], [0.1111111111111111, \"#46039f\"], [0.2222222222222222, \"#7201a8\"], [0.3333333333333333, \"#9c179e\"], [0.4444444444444444, \"#bd3786\"], [0.5555555555555556, \"#d8576b\"], [0.6666666666666666, \"#ed7953\"], [0.7777777777777778, \"#fb9f3a\"], [0.8888888888888888, \"#fdca26\"], [1.0, \"#f0f921\"]], \"type\": \"heatmapgl\"}], \"histogram\": [{\"marker\": {\"colorbar\": {\"outlinewidth\": 0, \"ticks\": \"\"}}, \"type\": \"histogram\"}], \"histogram2d\": [{\"colorbar\": {\"outlinewidth\": 0, \"ticks\": \"\"}, \"colorscale\": [[0.0, \"#0d0887\"], [0.1111111111111111, \"#46039f\"], [0.2222222222222222, \"#7201a8\"], [0.3333333333333333, \"#9c179e\"], [0.4444444444444444, \"#bd3786\"], [0.5555555555555556, \"#d8576b\"], [0.6666666666666666, \"#ed7953\"], [0.7777777777777778, \"#fb9f3a\"], [0.8888888888888888, \"#fdca26\"], [1.0, \"#f0f921\"]], \"type\": \"histogram2d\"}], \"histogram2dcontour\": [{\"colorbar\": {\"outlinewidth\": 0, \"ticks\": \"\"}, \"colorscale\": [[0.0, \"#0d0887\"], [0.1111111111111111, \"#46039f\"], [0.2222222222222222, \"#7201a8\"], [0.3333333333333333, \"#9c179e\"], [0.4444444444444444, \"#bd3786\"], [0.5555555555555556, \"#d8576b\"], [0.6666666666666666, \"#ed7953\"], [0.7777777777777778, \"#fb9f3a\"], [0.8888888888888888, \"#fdca26\"], [1.0, \"#f0f921\"]], \"type\": \"histogram2dcontour\"}], \"mesh3d\": [{\"colorbar\": {\"outlinewidth\": 0, \"ticks\": \"\"}, \"type\": \"mesh3d\"}], \"parcoords\": [{\"line\": {\"colorbar\": {\"outlinewidth\": 0, \"ticks\": \"\"}}, \"type\": \"parcoords\"}], \"pie\": [{\"automargin\": true, \"type\": \"pie\"}], \"scatter\": [{\"marker\": {\"colorbar\": {\"outlinewidth\": 0, \"ticks\": \"\"}}, \"type\": \"scatter\"}], \"scatter3d\": [{\"line\": {\"colorbar\": {\"outlinewidth\": 0, \"ticks\": \"\"}}, \"marker\": {\"colorbar\": {\"outlinewidth\": 0, \"ticks\": \"\"}}, \"type\": \"scatter3d\"}], \"scattercarpet\": [{\"marker\": {\"colorbar\": {\"outlinewidth\": 0, \"ticks\": \"\"}}, \"type\": \"scattercarpet\"}], \"scattergeo\": [{\"marker\": {\"colorbar\": {\"outlinewidth\": 0, \"ticks\": \"\"}}, \"type\": \"scattergeo\"}], \"scattergl\": [{\"marker\": {\"colorbar\": {\"outlinewidth\": 0, \"ticks\": \"\"}}, \"type\": \"scattergl\"}], \"scattermapbox\": [{\"marker\": {\"colorbar\": {\"outlinewidth\": 0, \"ticks\": \"\"}}, \"type\": \"scattermapbox\"}], \"scatterpolar\": [{\"marker\": {\"colorbar\": {\"outlinewidth\": 0, \"ticks\": \"\"}}, \"type\": \"scatterpolar\"}], \"scatterpolargl\": [{\"marker\": {\"colorbar\": {\"outlinewidth\": 0, \"ticks\": \"\"}}, \"type\": \"scatterpolargl\"}], \"scatterternary\": [{\"marker\": {\"colorbar\": {\"outlinewidth\": 0, \"ticks\": \"\"}}, \"type\": \"scatterternary\"}], \"surface\": [{\"colorbar\": {\"outlinewidth\": 0, \"ticks\": \"\"}, \"colorscale\": [[0.0, \"#0d0887\"], [0.1111111111111111, \"#46039f\"], [0.2222222222222222, \"#7201a8\"], [0.3333333333333333, \"#9c179e\"], [0.4444444444444444, \"#bd3786\"], [0.5555555555555556, \"#d8576b\"], [0.6666666666666666, \"#ed7953\"], [0.7777777777777778, \"#fb9f3a\"], [0.8888888888888888, \"#fdca26\"], [1.0, \"#f0f921\"]], \"type\": \"surface\"}], \"table\": [{\"cells\": {\"fill\": {\"color\": \"#EBF0F8\"}, \"line\": {\"color\": \"white\"}}, \"header\": {\"fill\": {\"color\": \"#C8D4E3\"}, \"line\": {\"color\": \"white\"}}, \"type\": \"table\"}]}, \"layout\": {\"annotationdefaults\": {\"arrowcolor\": \"#2a3f5f\", \"arrowhead\": 0, \"arrowwidth\": 1}, \"coloraxis\": {\"colorbar\": {\"outlinewidth\": 0, \"ticks\": \"\"}}, \"colorscale\": {\"diverging\": [[0, \"#8e0152\"], [0.1, \"#c51b7d\"], [0.2, \"#de77ae\"], [0.3, \"#f1b6da\"], [0.4, \"#fde0ef\"], [0.5, \"#f7f7f7\"], [0.6, \"#e6f5d0\"], [0.7, \"#b8e186\"], [0.8, \"#7fbc41\"], [0.9, \"#4d9221\"], [1, \"#276419\"]], \"sequential\": [[0.0, \"#0d0887\"], [0.1111111111111111, \"#46039f\"], [0.2222222222222222, \"#7201a8\"], [0.3333333333333333, \"#9c179e\"], [0.4444444444444444, \"#bd3786\"], [0.5555555555555556, \"#d8576b\"], [0.6666666666666666, \"#ed7953\"], [0.7777777777777778, \"#fb9f3a\"], [0.8888888888888888, \"#fdca26\"], [1.0, \"#f0f921\"]], \"sequentialminus\": [[0.0, \"#0d0887\"], [0.1111111111111111, \"#46039f\"], [0.2222222222222222, \"#7201a8\"], [0.3333333333333333, \"#9c179e\"], [0.4444444444444444, \"#bd3786\"], [0.5555555555555556, \"#d8576b\"], [0.6666666666666666, \"#ed7953\"], [0.7777777777777778, \"#fb9f3a\"], [0.8888888888888888, \"#fdca26\"], [1.0, \"#f0f921\"]]}, \"colorway\": [\"#636efa\", \"#EF553B\", \"#00cc96\", \"#ab63fa\", \"#FFA15A\", \"#19d3f3\", \"#FF6692\", \"#B6E880\", \"#FF97FF\", \"#FECB52\"], \"font\": {\"color\": \"#2a3f5f\"}, \"geo\": {\"bgcolor\": \"white\", \"lakecolor\": \"white\", \"landcolor\": \"#E5ECF6\", \"showlakes\": true, \"showland\": true, \"subunitcolor\": \"white\"}, \"hoverlabel\": {\"align\": \"left\"}, \"hovermode\": \"closest\", \"mapbox\": {\"style\": \"light\"}, \"paper_bgcolor\": \"white\", \"plot_bgcolor\": \"#E5ECF6\", \"polar\": {\"angularaxis\": {\"gridcolor\": \"white\", \"linecolor\": \"white\", \"ticks\": \"\"}, \"bgcolor\": \"#E5ECF6\", \"radialaxis\": {\"gridcolor\": \"white\", \"linecolor\": \"white\", \"ticks\": \"\"}}, \"scene\": {\"xaxis\": {\"backgroundcolor\": \"#E5ECF6\", \"gridcolor\": \"white\", \"gridwidth\": 2, \"linecolor\": \"white\", \"showbackground\": true, \"ticks\": \"\", \"zerolinecolor\": \"white\"}, \"yaxis\": {\"backgroundcolor\": \"#E5ECF6\", \"gridcolor\": \"white\", \"gridwidth\": 2, \"linecolor\": \"white\", \"showbackground\": true, \"ticks\": \"\", \"zerolinecolor\": \"white\"}, \"zaxis\": {\"backgroundcolor\": \"#E5ECF6\", \"gridcolor\": \"white\", \"gridwidth\": 2, \"linecolor\": \"white\", \"showbackground\": true, \"ticks\": \"\", \"zerolinecolor\": \"white\"}}, \"shapedefaults\": {\"line\": {\"color\": \"#2a3f5f\"}}, \"ternary\": {\"aaxis\": {\"gridcolor\": \"white\", \"linecolor\": \"white\", \"ticks\": \"\"}, \"baxis\": {\"gridcolor\": \"white\", \"linecolor\": \"white\", \"ticks\": \"\"}, \"bgcolor\": \"#E5ECF6\", \"caxis\": {\"gridcolor\": \"white\", \"linecolor\": \"white\", \"ticks\": \"\"}}, \"title\": {\"x\": 0.05}, \"xaxis\": {\"automargin\": true, \"gridcolor\": \"white\", \"linecolor\": \"white\", \"ticks\": \"\", \"title\": {\"standoff\": 15}, \"zerolinecolor\": \"white\", \"zerolinewidth\": 2}, \"yaxis\": {\"automargin\": true, \"gridcolor\": \"white\", \"linecolor\": \"white\", \"ticks\": \"\", \"title\": {\"standoff\": 15}, \"zerolinecolor\": \"white\", \"zerolinewidth\": 2}}}, \"title\": {\"text\": \"SEIRD: Observed vs Fitted\", \"x\": 0.5}, \"width\": 1000, \"xaxis\": {\"title\": {\"text\": \"Day\"}}, \"yaxis\": {\"title\": {\"text\": \"Counts\"}}},                        {\"responsive\": true}                    ).then(function(){\n",
       "                            \n",
       "var gd = document.getElementById('e41789f6-8eed-4c30-a531-15f9de748189');\n",
       "var x = new MutationObserver(function (mutations, observer) {{\n",
       "        var display = window.getComputedStyle(gd).display;\n",
       "        if (!display || display === 'none') {{\n",
       "            console.log([gd, 'removed!']);\n",
       "            Plotly.purge(gd);\n",
       "            observer.disconnect();\n",
       "        }}\n",
       "}});\n",
       "\n",
       "// Listen for the removal of the full notebook cells\n",
       "var notebookContainer = gd.closest('#notebook-container');\n",
       "if (notebookContainer) {{\n",
       "    x.observe(notebookContainer, {childList: true});\n",
       "}}\n",
       "\n",
       "// Listen for the clearing of the current output cell\n",
       "var outputEl = gd.closest('.output');\n",
       "if (outputEl) {{\n",
       "    x.observe(outputEl, {childList: true});\n",
       "}}\n",
       "\n",
       "                        })                };                });            </script>        </div>"
      ]
     },
     "metadata": {},
     "output_type": "display_data"
    }
   ],
   "source": [
    "final = data + result.residual.reshape(data.shape)\n",
    "\n",
    "fig = go.Figure()\n",
    "fig.add_trace(go.Scatter(x=tspan, y=data[:, 0], mode='markers', name='Observed Infections', line = dict(dash='dot')))\n",
    "fig.add_trace(go.Scatter(x=tspan, y=data[:, 1], mode='markers', name='Observed Recovered', line = dict(dash='dot')))\n",
    "fig.add_trace(go.Scatter(x=tspan, y=data[:, 2], mode='markers', name='Observed Deaths', line = dict(dash='dot')))\n",
    "fig.add_trace(go.Scatter(x=tspan, y=final[:, 0], mode='lines+markers', name='Fitted Infections'))\n",
    "fig.add_trace(go.Scatter(x=tspan, y=final[:, 1], mode='lines+markers', name='Fitted Recovered'))\n",
    "fig.add_trace(go.Scatter(x=tspan, y=final[:, 2], mode='lines+markers', name='Fitted Deaths'))\n",
    "fig.update_layout(title='SEIRD: Observed vs Fitted',\n",
    "                       xaxis_title='Day',\n",
    "                       yaxis_title='Counts',\n",
    "                       title_x=0.5,\n",
    "                      width=1000, height=600\n",
    "                     )"
   ]
  },
  {
   "cell_type": "code",
   "execution_count": 29,
   "metadata": {},
   "outputs": [
    {
     "name": "stdout",
     "output_type": "stream",
     "text": [
      "(253, 3)\n"
     ]
    }
   ],
   "source": [
    "observed_IRD = df_covid_history.loc[:, ['infected', 'discharged', 'deaths']].values\n",
    "print(observed_IRD.shape)"
   ]
  },
  {
   "cell_type": "code",
   "execution_count": 30,
   "metadata": {},
   "outputs": [],
   "source": [
    "tspan_fit_pred = np.arange(0, observed_IRD.shape[0], 1)\n",
    "params['beta'].value = result.params['beta'].value\n",
    "params['sigma'].value = result.params['sigma'].value\n",
    "params['gamma'].value = result.params['gamma'].value\n",
    "params['mu'].value = result.params['mu'].value\n",
    "fitted_predicted = ode_solver(tspan_fit_pred, initial_conditions, params)"
   ]
  },
  {
   "cell_type": "code",
   "execution_count": 23,
   "metadata": {},
   "outputs": [
    {
     "name": "stdout",
     "output_type": "stream",
     "text": [
      "(253, 3)\n"
     ]
    }
   ],
   "source": [
    "fitted_predicted_IRD = fitted_predicted[:, 2:5]\n",
    "print(fitted_predicted_IRD.shape)"
   ]
  },
  {
   "cell_type": "code",
   "execution_count": 24,
   "metadata": {},
   "outputs": [
    {
     "name": "stdout",
     "output_type": "stream",
     "text": [
      "Fitted MAE\n",
      "Infected:  587.5587815412382\n",
      "Recovered:  216.53476647025988\n",
      "Dead:  21.532533365023017\n",
      "\n",
      "Fitted RMSE\n",
      "Infected:  702.1643824974785\n",
      "Recovered:  284.98421031868344\n",
      "Dead:  26.446378166112353\n"
     ]
    }
   ],
   "source": [
    "print(\"Fitted MAE\")\n",
    "print('Infected: ', np.mean(np.abs(fitted_predicted_IRD[:days, 0] - observed_IRD[:days, 0])))\n",
    "print('Recovered: ', np.mean(np.abs(fitted_predicted_IRD[:days, 1] - observed_IRD[:days, 1])))\n",
    "print('Dead: ', np.mean(np.abs(fitted_predicted_IRD[:days, 2] - observed_IRD[:days, 2])))\n",
    "\n",
    "print(\"\\nFitted RMSE\")\n",
    "print('Infected: ', np.sqrt(np.mean((fitted_predicted_IRD[:days, 0] - observed_IRD[:days, 0])**2)))\n",
    "print('Recovered: ', np.sqrt(np.mean((fitted_predicted_IRD[:days, 1] - observed_IRD[:days, 1])**2)))\n",
    "print('Dead: ', np.sqrt(np.mean((fitted_predicted_IRD[:days, 2] - observed_IRD[:days, 2])**2)))"
   ]
  },
  {
   "cell_type": "code",
   "execution_count": 25,
   "metadata": {},
   "outputs": [
    {
     "name": "stdout",
     "output_type": "stream",
     "text": [
      "Predicted MAE\n",
      "Infected:  254178730.89604256\n",
      "Recovered:  276554499.00166845\n",
      "Dead:  58092603.6012532\n",
      "\n",
      "Predicted RMSE\n",
      "Infected:  359720188.45937645\n",
      "Recovered:  438451716.72909254\n",
      "Dead:  92046992.69860116\n"
     ]
    }
   ],
   "source": [
    "print(\"Predicted MAE\")\n",
    "print('Infected: ', np.mean(np.abs(fitted_predicted_IRD[days:observed_IRD.shape[0], 0] - observed_IRD[days:, 0])))\n",
    "print('Recovered: ', np.mean(np.abs(fitted_predicted_IRD[days:observed_IRD.shape[0], 1] - observed_IRD[days:, 1])))\n",
    "print('Dead: ', np.mean(np.abs(fitted_predicted_IRD[days:observed_IRD.shape[0], 2] - observed_IRD[days:, 2])))\n",
    "\n",
    "print(\"\\nPredicted RMSE\")\n",
    "print('Infected: ', np.sqrt(np.mean((fitted_predicted_IRD[days:observed_IRD.shape[0], 0] - observed_IRD[days:, 0])**2)))\n",
    "print('Recovered: ', np.sqrt(np.mean((fitted_predicted_IRD[days:observed_IRD.shape[0], 1] - observed_IRD[days:, 1])**2)))\n",
    "print('Dead: ', np.sqrt(np.mean((fitted_predicted_IRD[days:observed_IRD.shape[0], 2] - observed_IRD[days:, 2])**2)))"
   ]
  },
  {
   "cell_type": "code",
   "execution_count": null,
   "metadata": {},
   "outputs": [],
   "source": []
  }
 ],
 "metadata": {
  "kernelspec": {
   "display_name": "Python 3",
   "language": "python",
   "name": "python3"
  },
  "language_info": {
   "codemirror_mode": {
    "name": "ipython",
    "version": 3
   },
   "file_extension": ".py",
   "mimetype": "text/x-python",
   "name": "python",
   "nbconvert_exporter": "python",
   "pygments_lexer": "ipython3",
   "version": "3.6.12"
  }
 },
 "nbformat": 4,
 "nbformat_minor": 4
}
