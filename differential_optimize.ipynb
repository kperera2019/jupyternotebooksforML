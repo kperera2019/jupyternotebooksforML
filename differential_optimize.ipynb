{
 "cells": [
  {
   "cell_type": "code",
   "execution_count": 2,
   "metadata": {},
   "outputs": [
    {
     "name": "stderr",
     "output_type": "stream",
     "text": [
      "D:\\Anaconda\\envs\\py36\\lib\\site-packages\\ipykernel_launcher.py:49: UserWarning: Legend does not support 'u0' instances.\n",
      "A proxy artist may be used instead.\n",
      "See: http://matplotlib.org/users/legend_guide.html#creating-artists-specifically-for-adding-to-the-legend-aka-proxy-artists\n",
      "D:\\Anaconda\\envs\\py36\\lib\\site-packages\\ipykernel_launcher.py:49: UserWarning: Legend does not support 'u1' instances.\n",
      "A proxy artist may be used instead.\n",
      "See: http://matplotlib.org/users/legend_guide.html#creating-artists-specifically-for-adding-to-the-legend-aka-proxy-artists\n"
     ]
    },
    {
     "data": {
      "text/plain": [
       "Text(0.5, 1.0, 'Mass-Spring System')"
      ]
     },
     "execution_count": 2,
     "metadata": {},
     "output_type": "execute_result"
    },
    {
     "data": {
      "image/png": "[encoded data removed]",
      "text/plain": [
       "<Figure size 432x288 with 1 Axes>"
      ]
     },
     "metadata": {
      "needs_background": "light"
     },
     "output_type": "display_data"
    }
   ],
   "source": [
    "#modeling spring mass system\n",
    "import numpy as np\n",
    "import matplotlib.pyplot as plt\n",
    "from scipy.integrate import odeint\n",
    "from scipy import integrate\n",
    "\n",
    "#Make the following substitution to make system first order\n",
    "#Y[1]=y′(t) and Y[0]=y(t),\n",
    "#system: Y[0]'=Y[1] and Y[1]'=-c*Y[1]-k*Y[0]\n",
    "\n",
    "\n",
    "#=======================================================\n",
    "def eq(par,initial_cond,start_t,end_t,incr):\n",
    "     #-time-grid-----------------------------------\n",
    "     t  = np.linspace(start_t, end_t,incr)\n",
    "     #differential-eq-system----------------------\n",
    "     def funct(y,t):\n",
    "        ut=y[0]\n",
    "        ut_dt=y[1]\n",
    "        c,k=par\n",
    "        # the model equations u'=Y[1], u''=-k*Y[0]-c*Y[1] from u''+c*u'+k*u=0\n",
    "        f0 =ut_dt\n",
    "        f1 =-k*ut-c*ut_dt\n",
    "        return [f0, f1]\n",
    "     #integrate------------------------------------\n",
    "     ds = integrate.odeint(funct,initial_cond,t)\n",
    "     return (ds[:,0],ds[:,1],t)\n",
    "#=======================================================\n",
    "\n",
    "#parameters   \n",
    "c=2. #spring coefficient \n",
    "k=10. #dampening coefficient\n",
    "\n",
    "#collect parameters in tuple\n",
    "coefs=(c,k)\n",
    "\n",
    "# initial conditions\n",
    "\n",
    "u0=6.\n",
    "ud0=0.\n",
    "y0=[u0,ud0]\n",
    "\n",
    "start,stop,incr=0,20,100\n",
    "\n",
    "#Solve and plot solution\n",
    "F0,F1,T=eq(coefs,y0,start,stop,incr)\n",
    "plt.figure()\n",
    "plt.plot(T,F0,'-b',T,F1,'-r')\n",
    "plt.legend(('u0', 'u1'),'upper center')\n",
    "plt.title('Mass-Spring System')"
   ]
  },
  {
   "cell_type": "code",
   "execution_count": 6,
   "metadata": {},
   "outputs": [
    {
     "data": {
      "text/plain": [
       "<matplotlib.legend.Legend at 0x1c3e8b48eb8>"
      ]
     },
     "execution_count": 6,
     "metadata": {},
     "output_type": "execute_result"
    },
    {
     "data": {
      "image/png": "[encoded data removed]",
      "text/plain": [
       "<Figure size 432x288 with 1 Axes>"
      ]
     },
     "metadata": {
      "needs_background": "light"
     },
     "output_type": "display_data"
    }
   ],
   "source": [
    "rand_i=np.random.randn(incr)\n",
    "#noiselevel\n",
    "nl=.05\n",
    "noisy_data=F0+nl*rand_i\n",
    "plt.plot(noisy_data,label=\"noisy_data:c=2,k=10\")\n",
    "plt.legend()"
   ]
  },
  {
   "cell_type": "code",
   "execution_count": 9,
   "metadata": {},
   "outputs": [
    {
     "name": "stdout",
     "output_type": "stream",
     "text": [
      "Optimization terminated successfully.\n",
      "         Current function value: 0.235295\n",
      "         Iterations: 54\n",
      "         Function evaluations: 105\n"
     ]
    }
   ],
   "source": [
    "from scipy.optimize import fmin\n",
    "\n",
    "#1.Get 'Real' Data\n",
    "#====================================================\n",
    "nd=noisy_data#solution with parameters: c=2,k=10\n",
    "#====================================================\n",
    "\n",
    "#2.Set up Info for Model System\n",
    "#===================================================\n",
    "# guess parameters   \n",
    "c=1 #spring coefficient \n",
    "k=1 #dampening coefficient\n",
    "\n",
    "#collect parameters in tuple\n",
    "coefs=(c,k)\n",
    "\n",
    "# initial conditions\n",
    "u0=6.\n",
    "ud0=0.\n",
    "y0=[u0,ud0]\n",
    "\n",
    "# model steps\n",
    "#---------------------------------------------------\n",
    "start_time=0\n",
    "end_time=20\n",
    "intervals=100\n",
    "mt=np.linspace(start_time,end_time,intervals)\n",
    "\n",
    "#3.Score Fit of System\n",
    "#=========================================================\n",
    "def score(coefs): #changed\n",
    "    #a.Get Solution to system\n",
    "    F0,F1,T=eq(coefs,y0,start_time,end_time,intervals)\n",
    "    #b.Pick of Model Points to Compare\n",
    "    um=F0\n",
    "    #c.Score Difference between model(ode output) and data points (noisy data)\n",
    "    ss=lambda data,model:((data-model)**2).sum()\n",
    "    return ss(nd,um)\n",
    "#========================================================\n",
    "\n",
    "\n",
    "#4.Optimize Fit\n",
    "#=======================================================\n",
    "fit_score=score(coefs)\n",
    "answ=fmin(score,(coefs))"
   ]
  },
  {
   "cell_type": "code",
   "execution_count": 12,
   "metadata": {},
   "outputs": [
    {
     "name": "stdout",
     "output_type": "stream",
     "text": [
      "[False False]\n",
      "[ 2.05794399 10.09071066]\n",
      "1 1\n"
     ]
    }
   ],
   "source": [
    "print(answ==[c,k])\n",
    "print(answ)\n",
    "print(c,k)"
   ]
  },
  {
   "cell_type": "code",
   "execution_count": null,
   "metadata": {},
   "outputs": [],
   "source": []
  }
 ],
 "metadata": {
  "kernelspec": {
   "display_name": "Python 3",
   "language": "python",
   "name": "python3"
  },
  "language_info": {
   "codemirror_mode": {
    "name": "ipython",
    "version": 3
   },
   "file_extension": ".py",
   "mimetype": "text/x-python",
   "name": "python",
   "nbconvert_exporter": "python",
   "pygments_lexer": "ipython3",
   "version": "3.6.10"
  }
 },
 "nbformat": 4,
 "nbformat_minor": 4
}
